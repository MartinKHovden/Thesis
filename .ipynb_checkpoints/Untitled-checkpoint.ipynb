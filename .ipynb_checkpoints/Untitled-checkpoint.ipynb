{
 "cells": [
  {
   "cell_type": "code",
   "execution_count": 36,
   "metadata": {},
   "outputs": [
    {
     "name": "stderr",
     "output_type": "stream",
     "text": [
      "c:\\users\\marth\\appdata\\local\\programs\\python\\python37\\lib\\site-packages\\numba\\typed_passes.py:271: NumbaPerformanceWarning: \u001b[1m\n",
      "The keyword argument 'parallel=True' was specified but no transformation for parallel execution was possible.\n",
      "\n",
      "To find out why, try turning on parallel diagnostics, see http://numba.pydata.org/numba-doc/latest/user/parallel.html#diagnostics for help.\n",
      "\u001b[1m\n",
      "File \"<ipython-input-36-9e13e52fd6ed>\", line 10:\u001b[0m\n",
      "\u001b[1m@jit(nopython=True, parallel=True)\n",
      "\u001b[1mdef mc_samples(num_samples):\n",
      "\u001b[0m\u001b[1m^\u001b[0m\u001b[0m\n",
      "\u001b[0m\n",
      "  state.func_ir.loc))\n"
     ]
    },
    {
     "name": "stdout",
     "output_type": "stream",
     "text": [
      "2739637.959319213\n",
      "0.6630599498748779\n"
     ]
    }
   ],
   "source": [
    "from numba import jit\n",
    "import numpy as np \n",
    "import time\n",
    "\n",
    "@jit\n",
    "def calc_energy(x1, x2):\n",
    "    return 0.1*(x1-x2)**2\n",
    "\n",
    "@jit(nopython=True)\n",
    "def mc_samples(num_samples):\n",
    "    x1 = 0.1\n",
    "    x2 = 0.2\n",
    "    \n",
    "    e_sum = 0\n",
    "    \n",
    "    for i in range(num_samples):\n",
    "        x1 += np.random.randn()\n",
    "        x2 += np.random.randn()\n",
    "        e_sum += calc_energy(x1,x2)\n",
    "    \n",
    "    print(e_sum/num_samples)\n",
    "   \n",
    "start = time.time()\n",
    "mc_samples(10000000)\n",
    "print(time.time() - start)\n",
    "\n",
    "        \n",
    "    \n",
    "    "
   ]
  }
 ],
 "metadata": {
  "kernelspec": {
   "display_name": "Python 3",
   "language": "python",
   "name": "python3"
  },
  "language_info": {
   "codemirror_mode": {
    "name": "ipython",
    "version": 3
   },
   "file_extension": ".py",
   "mimetype": "text/x-python",
   "name": "python",
   "nbconvert_exporter": "python",
   "pygments_lexer": "ipython3",
   "version": "3.7.1"
  }
 },
 "nbformat": 4,
 "nbformat_minor": 4
}
