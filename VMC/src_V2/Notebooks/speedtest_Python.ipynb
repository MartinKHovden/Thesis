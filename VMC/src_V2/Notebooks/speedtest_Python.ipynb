{
 "cells": [
  {
   "cell_type": "code",
   "execution_count": 52,
   "metadata": {},
   "outputs": [
    {
     "name": "stdout",
     "output_type": "stream",
     "text": [
      "num samples  10 PI estimate  2.4 time  0.3184387683868408\n",
      "num samples  100 PI estimate  3.36 time  0.0\n",
      "num samples  1000 PI estimate  3.136 time  0.0\n",
      "num samples  10000 PI estimate  3.1404 time  0.0\n",
      "num samples  100000 PI estimate  3.1442 time  0.015625\n",
      "num samples  1000000 PI estimate  3.142528 time  0.029937028884887695\n",
      "num samples  10000000 PI estimate  3.1409468 time  0.36031198501586914\n",
      "num samples  100000000 PI estimate  3.14198656 time  2.817030191421509\n"
     ]
    }
   ],
   "source": [
    "import numpy as np\n",
    "import matplotlib.pyplot as plt \n",
    "import time\n",
    "\n",
    "for k in range(1, 9):\n",
    "    numSamples = 10**k\n",
    "    startTime = time.time()\n",
    "    samples = np.random.uniform(low = 0, high= 1, size=(2, numSamples))\n",
    "    samples_squared = np.square(samples)\n",
    "    samples_squared_sum = np.sum(samples_squared, axis=0)\n",
    "    num_inside = (samples_squared_sum <= 1).sum()\n",
    "    endTime = time.time()\n",
    "\n",
    "    print(\"num samples \", numSamples, \"PI estimate \", 4*num_inside/numSamples, \"time \", endTime - startTime)"
   ]
  }
 ],
 "metadata": {
  "kernelspec": {
   "display_name": "Python 3",
   "language": "python",
   "name": "python3"
  },
  "language_info": {
   "codemirror_mode": {
    "name": "ipython",
    "version": 3
   },
   "file_extension": ".py",
   "mimetype": "text/x-python",
   "name": "python",
   "nbconvert_exporter": "python",
   "pygments_lexer": "ipython3",
   "version": "3.7.0"
  }
 },
 "nbformat": 4,
 "nbformat_minor": 2
}
