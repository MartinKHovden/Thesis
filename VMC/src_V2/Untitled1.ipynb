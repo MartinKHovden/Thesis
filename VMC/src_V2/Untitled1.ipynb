{
 "cells": [
  {
   "cell_type": "code",
   "execution_count": 61,
   "metadata": {},
   "outputs": [
    {
     "name": "stdout",
     "output_type": "stream",
     "text": [
      "['wf', 'slater', 'gaussian', 'nn', 'sysInfo', 'is', 'stepLength', '0.5', 'numMCSteps', '10000', 'numDims', '2', 'numParticles', '2', 'elementinfo', 'slater', 'none', 'gaussian', 'none', 'nn', 'numhidden1', '4', 'numhidden2', '2', 'activationFunction', 'sigmoid', '.txt']\n",
      "['slater', 'gaussian', 'nn']\n",
      "{'wavefunctionCombination': 'slatergaussiannn', 'sampler': 'is', 'stepLength': 0.5, 'numMCSteps': 10000, 'numDims': 2, 'numParticles': 2, 'wavefunctionElements': {}}\n",
      "none\n",
      "none\n",
      "numhidden1\n",
      "numhidden2\n",
      "{'none': 'nn', 'numhidden1': '4', 'numhidden2': '2'}\n",
      "{}\n",
      "{'wavefunctionCombination': 'slatergaussiannn', 'sampler': 'is', 'stepLength': 0.5, 'numMCSteps': 10000, 'numDims': 2, 'numParticles': 2, 'wavefunctionElements': {}}\n"
     ]
    }
   ],
   "source": [
    "def readFilename(filename):\n",
    "    words = filename.split(\"_\")\n",
    "    print(words)\n",
    "    simulationInfo = {}\n",
    "    simulationInfo[\"wavefunctionCombination\"] = \"\"\n",
    "    i = 1\n",
    "    wavefunctionElements = []\n",
    "    while words[i] != \"sysInfo\":\n",
    "        simulationInfo[\"wavefunctionCombination\"] += words[i]\n",
    "        wavefunctionElements.append(words[i])\n",
    "        i+=1\n",
    "    print(wavefunctionElements)\n",
    "    i+=1\n",
    "    simulationInfo[\"sampler\"] = words[i] \n",
    "    i+=2\n",
    "    simulationInfo[\"stepLength\"] = float(words[i])\n",
    "    i+=2\n",
    "    simulationInfo[\"numMCSteps\"] = int(words[i])\n",
    "    i+=2\n",
    "    simulationInfo[\"numDims\"] = int(words[i])\n",
    "    i+=2\n",
    "    simulationInfo[\"numParticles\"] = int(words[i])\n",
    "    \n",
    "    simulationInfo[\"wavefunctionElements\"] = {}\n",
    "        \n",
    "    i+=2\n",
    "            \n",
    "    for element in wavefunctionElements[1:]:\n",
    "        i+=1\n",
    "        temp = {}\n",
    "        while words[i] != element and words[i+1] != \".txt\" and words[i+2] != \".txt\":\n",
    "            print(words[i])\n",
    "            temp[words[i]] = words[i+1]\n",
    "            i+=2\n",
    "        print(temp)\n",
    "    \n",
    "            \n",
    "    \n",
    "    print(simulationInfo)\n",
    "    \n",
    "    \n",
    "    \n",
    "   \n",
    "readFilename(\"wf_slater_gaussian_nn_sysInfo_is_stepLength_0.5_numMCSteps_10000_numDims_2_numParticles_2_elementinfo_slater_none_gaussian_none_nn_numhidden1_4_numhidden2_2_activationFunction_sigmoid_.txt\")"
   ]
  }
 ],
 "metadata": {
  "kernelspec": {
   "display_name": "Python 3",
   "language": "python",
   "name": "python3"
  },
  "language_info": {
   "codemirror_mode": {
    "name": "ipython",
    "version": 3
   },
   "file_extension": ".py",
   "mimetype": "text/x-python",
   "name": "python",
   "nbconvert_exporter": "python",
   "pygments_lexer": "ipython3",
   "version": "3.7.0"
  }
 },
 "nbformat": 4,
 "nbformat_minor": 4
}
