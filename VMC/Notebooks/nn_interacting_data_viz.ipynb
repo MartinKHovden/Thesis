{
 "cells": [
  {
   "cell_type": "markdown",
   "metadata": {},
   "source": [
    "# Neural Network Interacting particles"
   ]
  },
  {
   "cell_type": "code",
   "execution_count": 3,
   "metadata": {},
   "outputs": [
    {
     "name": "stdout",
     "output_type": "stream",
     "text": [
      "(0.5490196078431373, 0.33725490196078434, 0.29411764705882354, 1.0)\n"
     ]
    }
   ],
   "source": [
    "import matplotlib as mpl\n",
    "import matplotlib.pyplot as plt \n",
    "import numpy as np\n",
    "from pylab import cm\n",
    "import pandas as pd\n",
    "from data_viz import plot_mcmc_diagnostic, plot_mcmc_diagnostic2, block, acceptance_ratio\n",
    "\n",
    "import matplotlib.font_manager as fm\n",
    "font_names = [f.name for f in fm.fontManager.ttflist]\n",
    "\n",
    "mpl.rcParams['font.family'] = 'Arial'\n",
    "plt.rcParams['font.size'] = 22\n",
    "plt.rcParams['axes.linewidth'] = 2\n",
    "\n",
    "# Generate 2 colors from the 'tab10' colormap\n",
    "colors = cm.get_cmap('tab10', 3)\n",
    "print(colors(1))"
   ]
  },
  {
   "cell_type": "code",
   "execution_count": 9,
   "metadata": {},
   "outputs": [],
   "source": [
    "data1_raw = np.loadtxt(\"../Data/MC/Interacting/nnAnalytical_is_step_length_0.005_nodes_layer1_20_layer2_10_num_p_2_num_d_2.txt\")\n",
    "data2_raw = np.loadtxt(\"../Data/MC/Interacting/nnAnalytical_is_step_length_0.05_nodes_layer1_20_layer2_10_num_p_2_num_d_2.txt\")\n",
    "data3_raw = np.loadtxt(\"../Data/MC/Interacting/nnAnalytical_is_step_length_0.5_nodes_layer1_20_layer2_10_num_p_2_num_d_2.txt\")\n",
    "data4_raw = np.loadtxt(\"../Data/MC/Interacting/nnAnalytical_is_step_length_5.0_nodes_layer1_20_layer2_10_num_p_2_num_d_2.txt\")\n",
    "\n",
    "data_raw = [data1_raw, data2_raw, data3_raw, data4_raw]\n"
   ]
  },
  {
   "cell_type": "code",
   "execution_count": 29,
   "metadata": {},
   "outputs": [
    {
     "name": "stdout",
     "output_type": "stream",
     "text": [
      "0.9813308715820312\n",
      "0.8720355033874512\n",
      "0.7147006988525391\n",
      "0.11952924728393555\n"
     ]
    },
    {
     "data": {
      "text/plain": [
       "[[(3.0136395228032367, 1.4487635264119116e-05), 0.9813308715820312],\n",
       " [(3.009133374719079, 1.1080552904317018e-06), 0.8720355033874512],\n",
       " [(3.02352263529516, 3.1462623155176913e-06), 0.7147006988525391],\n",
       " [(3.0103752609991132, 2.70906245947621e-05), 0.11952924728393555]]"
      ]
     },
     "execution_count": 29,
     "metadata": {},
     "output_type": "execute_result"
    }
   ],
   "source": [
    "step_lengths = [0.005, 0.05, 0.5, 5.0]\n",
    "block_data = [[block(data), acceptance_ratio(data)] for data in data_raw]\n",
    "block_data"
   ]
  },
  {
   "cell_type": "code",
   "execution_count": 31,
   "metadata": {},
   "outputs": [],
   "source": [
    "energies = [block_data[i][0][0] for i in range(len(block_data))]\n",
    "variances = [block_data[i][0][1] for i in range(len(block_data))]\n",
    "acceptances = [block_data[i][1] for i in range(len(block_data))]"
   ]
  },
  {
   "cell_type": "code",
   "execution_count": 32,
   "metadata": {},
   "outputs": [
    {
     "name": "stdout",
     "output_type": "stream",
     "text": [
      "\\begin{tabular}{rrrr}\n",
      "\\toprule\n",
      " MC step-length &    Energy &       Var &  Acceptance ratio \\\\\n",
      "\\midrule\n",
      "          0.005 &  3.013640 &  0.000014 &          0.981331 \\\\\n",
      "          0.050 &  3.009133 &  0.000001 &          0.872036 \\\\\n",
      "          0.500 &  3.023523 &  0.000003 &          0.714701 \\\\\n",
      "          5.000 &  3.010375 &  0.000027 &          0.119529 \\\\\n",
      "\\bottomrule\n",
      "\\end{tabular}\n",
      "\n"
     ]
    }
   ],
   "source": [
    "df = pd.DataFrame({\"MC step-length\": step_lengths,\"Energy\" : energies, \"Var\" : variances, \"Acceptance ratio\" : acceptances })\n",
    "print(df.to_latex(index=False))"
   ]
  },
  {
   "cell_type": "code",
   "execution_count": 69,
   "metadata": {},
   "outputs": [],
   "source": [
    "data1_raw = np.loadtxt(\"../Data/MC/Interacting/nnAnalytical_is_step_length_0.05_nodes_layer1_20_layer2_10_num_p_6_num_d_2.txt\")\n",
    "data2_raw = np.loadtxt(\"../Data/MC/Interacting/nnAnalytical_is_step_length_0.01_nodes_layer1_20_layer2_10_num_p_6_num_d_2.txt\")\n",
    "data3_raw = np.loadtxt(\"../Data/MC/Interacting/nnAnalytical_is_step_length_0.005_nodes_layer1_20_layer2_10_num_p_6_num_d_2.txt\")\n",
    "data4_raw = np.loadtxt(\"../Data/MC/Interacting/nnAnalytical_is_step_length_0.001_nodes_layer1_20_layer2_10_num_p_6_num_d_2.txt\")\n",
    "data5_raw = np.loadtxt(\"../Data/MC/Interacting/nnAnalytical_is_step_length_0.0005_nodes_layer1_20_layer2_10_num_p_6_num_d_2.txt\")\n",
    "data6_raw = np.loadtxt(\"../Data/MC/Interacting/nnAnalytical_is_step_length_0.0001_nodes_layer1_20_layer2_10_num_p_6_num_d_2.txt\")\n",
    "data_raw = [data1_raw, data2_raw, data3_raw, data4_raw, data5_raw, data6_raw]\n"
   ]
  },
  {
   "cell_type": "code",
   "execution_count": 70,
   "metadata": {},
   "outputs": [
    {
     "name": "stdout",
     "output_type": "stream",
     "text": [
      "0.7643346786499023\n",
      "0.92462158203125\n",
      "0.9963197708129883\n",
      "0.9950046539306641\n",
      "0.9990606307983398\n",
      "0.9983682632446289\n"
     ]
    },
    {
     "data": {
      "text/plain": [
       "[[(26.825626359290617, 2.876934856180011), 0.7643346786499023],\n",
       " [(22.295247296894676, 0.3868914429175159), 0.92462158203125],\n",
       " [(20.74973940522126, 0.0027426451374566365), 0.9963197708129883],\n",
       " [(20.70088496918349, 0.009547060913997435), 0.9950046539306641],\n",
       " [(20.746689818461974, 0.0214389652928503), 0.9990606307983398],\n",
       " [(21.11054628410125, 0.03908447188307711), 0.9983682632446289]]"
      ]
     },
     "execution_count": 70,
     "metadata": {},
     "output_type": "execute_result"
    }
   ],
   "source": [
    "step_lengths = [0.05, 0.01, 0.005, 0.001, 0.0005, 0.0001]\n",
    "block_data = [[block(data), acceptance_ratio(data)] for data in data_raw]\n",
    "block_data"
   ]
  },
  {
   "cell_type": "code",
   "execution_count": 71,
   "metadata": {},
   "outputs": [
    {
     "name": "stdout",
     "output_type": "stream",
     "text": [
      "\\begin{tabular}{rrrr}\n",
      "\\toprule\n",
      " MC step-length &     Energy &       Var &  Acceptance ratio \\\\\n",
      "\\midrule\n",
      "         0.0500 &  26.825626 &  2.876935 &          0.764335 \\\\\n",
      "         0.0100 &  22.295247 &  0.386891 &          0.924622 \\\\\n",
      "         0.0050 &  20.749739 &  0.002743 &          0.996320 \\\\\n",
      "         0.0010 &  20.700885 &  0.009547 &          0.995005 \\\\\n",
      "         0.0005 &  20.746690 &  0.021439 &          0.999061 \\\\\n",
      "         0.0001 &  21.110546 &  0.039084 &          0.998368 \\\\\n",
      "\\bottomrule\n",
      "\\end{tabular}\n",
      "\n"
     ]
    }
   ],
   "source": [
    "energies = [block_data[i][0][0] for i in range(len(block_data))]\n",
    "variances = [block_data[i][0][1] for i in range(len(block_data))]\n",
    "acceptances = [block_data[i][1] for i in range(len(block_data))]\n",
    "\n",
    "df = pd.DataFrame({\"MC step-length\": step_lengths,\"Energy\" : energies, \"Var\" : variances, \"Acceptance ratio\" : acceptances })\n",
    "print(df.to_latex(index=False))"
   ]
  },
  {
   "cell_type": "code",
   "execution_count": 52,
   "metadata": {},
   "outputs": [
    {
     "data": {
      "image/png": "[encoded data removed]",
      "text/plain": [
       "<Figure size 432x288 with 1 Axes>"
      ]
     },
     "metadata": {
      "needs_background": "light"
     },
     "output_type": "display_data"
    },
    {
     "data": {
      "text/plain": [
       "[<matplotlib.lines.Line2D at 0x1cda1838e10>]"
      ]
     },
     "execution_count": 52,
     "metadata": {},
     "output_type": "execute_result"
    },
    {
     "data": {
      "image/png": "[encoded data removed]",
      "text/plain": [
       "<Figure size 432x288 with 1 Axes>"
      ]
     },
     "metadata": {
      "needs_background": "light"
     },
     "output_type": "display_data"
    }
   ],
   "source": [
    "data_opt1 = np.loadtxt(\"../Data/Optimization/Interacting/nnAnalytical_is_mc_step_length0.05_learning_rate_0.05_nodes_layer1_20_nodes_layer2_10_num_p_6_num_d_2.txt\")\n",
    "data_opt2 = np.loadtxt(\"../Data/Optimization/Interacting/nnAnalytical_is_mc_step_length0.0005_learning_rate_0.05_nodes_layer1_20_nodes_layer2_10_num_p_6_num_d_2.txt\")\n",
    "plt.plot(data_opt1)\n",
    "plt.plot(data_opt2)\n",
    "plt.show()\n",
    "plt.plot([(abs(20.16 - data_point)) for data_point in data_opt1])\n",
    "plt.plot([(abs(20.16 - data_point)) for data_point in data_opt2])"
   ]
  }
 ],
 "metadata": {
  "kernelspec": {
   "display_name": "Python 3",
   "language": "python",
   "name": "python3"
  },
  "language_info": {
   "codemirror_mode": {
    "name": "ipython",
    "version": 3
   },
   "file_extension": ".py",
   "mimetype": "text/x-python",
   "name": "python",
   "nbconvert_exporter": "python",
   "pygments_lexer": "ipython3",
   "version": "3.7.0"
  }
 },
 "nbformat": 4,
 "nbformat_minor": 2
}
