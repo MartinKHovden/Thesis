{
 "cells": [
  {
   "cell_type": "code",
   "execution_count": 1,
   "metadata": {},
   "outputs": [],
   "source": [
    "import numpy as np\n",
    "import matplotlib.pyplot as plt "
   ]
  },
  {
   "cell_type": "code",
   "execution_count": 8,
   "metadata": {},
   "outputs": [],
   "source": [
    "def hermitePolynomial(x, n):\n",
    "    if n == 0:\n",
    "        return 1\n",
    "    elif n == 1:\n",
    "        return 2*x \n",
    "    elif n==2:\n",
    "        return (4*x^2 - 2)\n",
    "    elif n==3:\n",
    "        return (8*x^3 - 12*x)\n",
    "    else: \n",
    "        println(\"The hermite polynomial is not implemented for n > 3\")\n",
    "        return 0\n",
    "\n",
    "\n",
    "def hermitePolynomialDerivative(x, n):\n",
    "    if n == 0:\n",
    "        return 0\n",
    "    elif n == 1:\n",
    "        return 2 \n",
    "    elif n==2:\n",
    "        return 8*x\n",
    "    elif n==3:\n",
    "        return (24*x^2 - 12)\n",
    "    else:\n",
    "        println(\"The hermite polynomial drivative is not implemented for n > 3\")\n",
    "        return 0\n",
    "\n",
    "def hermitePolynomialDoubleDerivative(x, n):\n",
    "    if n == 0:\n",
    "        return 0\n",
    "    elif n == 1:\n",
    "        return 0\n",
    "    elif n==2:\n",
    "        return 8\n",
    "    elif n==3:\n",
    "        return 48*x \n",
    "    else :\n",
    "        println(\"The hermite polynomial double derivative is not implemented for n > 3\")\n",
    "        return 0\n",
    "    \n",
    "def singleParticle(x, y, )\n"
   ]
  }
 ],
 "metadata": {
  "kernelspec": {
   "display_name": "Python 3",
   "language": "python",
   "name": "python3"
  },
  "language_info": {
   "codemirror_mode": {
    "name": "ipython",
    "version": 3
   },
   "file_extension": ".py",
   "mimetype": "text/x-python",
   "name": "python",
   "nbconvert_exporter": "python",
   "pygments_lexer": "ipython3",
   "version": "3.7.0"
  }
 },
 "nbformat": 4,
 "nbformat_minor": 2
}
