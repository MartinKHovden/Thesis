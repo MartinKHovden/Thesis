{
 "cells": [
  {
   "cell_type": "markdown",
   "metadata": {},
   "source": [
    "# Neural Network Interacting particles"
   ]
  },
  {
   "cell_type": "code",
   "execution_count": 3,
   "metadata": {},
   "outputs": [
    {
     "name": "stdout",
     "output_type": "stream",
     "text": [
      "(0.5490196078431373, 0.33725490196078434, 0.29411764705882354, 1.0)\n"
     ]
    }
   ],
   "source": [
    "import matplotlib as mpl\n",
    "import matplotlib.pyplot as plt \n",
    "import numpy as np\n",
    "from pylab import cm\n",
    "import pandas as pd\n",
    "from data_viz import plot_mcmc_diagnostic, plot_mcmc_diagnostic2, block, acceptance_ratio\n",
    "\n",
    "import matplotlib.font_manager as fm\n",
    "font_names = [f.name for f in fm.fontManager.ttflist]\n",
    "\n",
    "mpl.rcParams['font.family'] = 'Arial'\n",
    "plt.rcParams['font.size'] = 22\n",
    "plt.rcParams['axes.linewidth'] = 2\n",
    "\n",
    "# Generate 2 colors from the 'tab10' colormap\n",
    "colors = cm.get_cmap('tab10', 3)\n",
    "print(colors(1))"
   ]
  },
  {
   "cell_type": "code",
   "execution_count": 2,
   "metadata": {},
   "outputs": [],
   "source": [
    "data1_raw = np.loadtxt(\"../Data/MC/Interacting/nn_is_step_length_0.005_num_hidden_4_num_p_2_num_d_2.txt\")\n",
    "data2_raw = np.loadtxt(\"../Data/MC/Interacting/nn_is_step_length_0.05_num_hidden_4_num_p_2_num_d_2.txt\")\n",
    "data3_raw = np.loadtxt(\"../Data/MC/Interacting/nn_is_step_length_0.5_num_hidden_4_num_p_2_num_d_2.txt\")\n",
    "data4_raw = np.loadtxt(\"../Data/MC/Interacting/nn_is_step_length_5.0_num_hidden_4_num_p_2_num_d_2.txt\")\n",
    "\n",
    "data_raw = [data1_raw, data2_raw, data3_raw, data4_raw]\n",
    "step_legths = [0.005, 0.05, 0.5, 5.0]"
   ]
  }
 ],
 "metadata": {
  "kernelspec": {
   "display_name": "Python 3",
   "language": "python",
   "name": "python3"
  },
  "language_info": {
   "codemirror_mode": {
    "name": "ipython",
    "version": 3
   },
   "file_extension": ".py",
   "mimetype": "text/x-python",
   "name": "python",
   "nbconvert_exporter": "python",
   "pygments_lexer": "ipython3",
   "version": "3.7.0"
  }
 },
 "nbformat": 4,
 "nbformat_minor": 2
}
