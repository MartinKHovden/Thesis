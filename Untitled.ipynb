{
 "cells": [
  {
   "cell_type": "code",
   "execution_count": 48,
   "metadata": {},
   "outputs": [
    {
     "name": "stdout",
     "output_type": "stream",
     "text": [
      "1403645.0092051455\n",
      "1.777566909790039\n"
     ]
    }
   ],
   "source": [
    "from numba import jit, prange\n",
    "import numpy as np \n",
    "import time\n",
    "\n",
    "@jit\n",
    "def calc_energy(x1, x2):\n",
    "    return 0.1*(x1-x2)**2\n",
    "\n",
    "@jit(nopython=True, parallel=True)\n",
    "def mc_samples(num_samples):\n",
    "    x1 = 0.1\n",
    "    x2 = 0.2\n",
    "    \n",
    "    e_sum = 0\n",
    "    \n",
    "    for i in prange(num_samples):\n",
    "        x1 += np.random.randn()\n",
    "        x2 += np.random.randn()\n",
    "        e_sum += calc_energy(x1,x2)\n",
    "    \n",
    "    print(e_sum/num_samples)\n",
    "   \n",
    "start = time.time()\n",
    "mc_samples(100000000)\n",
    "print(time.time() - start)\n",
    "\n",
    "        \n",
    "    \n",
    "    "
   ]
  }
 ],
 "metadata": {
  "kernelspec": {
   "display_name": "Python 3",
   "language": "python",
   "name": "python3"
  },
  "language_info": {
   "codemirror_mode": {
    "name": "ipython",
    "version": 3
   },
   "file_extension": ".py",
   "mimetype": "text/x-python",
   "name": "python",
   "nbconvert_exporter": "python",
   "pygments_lexer": "ipython3",
   "version": "3.7.1"
  }
 },
 "nbformat": 4,
 "nbformat_minor": 4
}
